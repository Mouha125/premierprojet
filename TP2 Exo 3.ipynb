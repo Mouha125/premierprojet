{
 "cells": [
  {
   "cell_type": "code",
   "execution_count": 5,
   "id": "e501715b",
   "metadata": {},
   "outputs": [
    {
     "data": {
      "text/plain": [
       "Roger Voss            25514\n",
       "Michael Schachner     15134\n",
       "Kerin O’Keefe         10776\n",
       "Virginie Boone         9537\n",
       "Paul Gregutt           9532\n",
       "Matt Kettmann          6332\n",
       "Joe Czerwinski         5147\n",
       "Sean P. Sullivan       4966\n",
       "Anna Lee C. Iijima     4415\n",
       "Jim Gordon             4177\n",
       "Anne Krebiehl MW       3685\n",
       "Lauren Buzzeo          1835\n",
       "Susan Kostrzewa        1085\n",
       "Mike DeSimone           514\n",
       "Jeff Jenssen            491\n",
       "Alexander Peartree      415\n",
       "Carrie Dykes            139\n",
       "Fiona Adams              27\n",
       "Christina Pickard         6\n",
       "Name: taster_name, dtype: int64"
      ]
     },
     "execution_count": 5,
     "metadata": {},
     "output_type": "execute_result"
    }
   ],
   "source": [
    "import numpy as np\n",
    "import pandas as pd\n",
    "R=pd.read_csv(\"C:\\\\Users\\\\ASUS GAMER\\\\Documents\\\\ESTI COURS ET TD license 2\\\\Programmation\\\\Data science\\\\TP2\\\\boissons_evaluees.csv\")\n",
    "R.taster_name.value_counts()"
   ]
  },
  {
   "cell_type": "code",
   "execution_count": 9,
   "id": "70c2e75a",
   "metadata": {},
   "outputs": [
    {
     "name": "stdout",
     "output_type": "stream",
     "text": [
      "taster_twitter_handle\n",
      "@AnneInVino          3685\n",
      "@JoeCz               5147\n",
      "@bkfiona               27\n",
      "@gordone_cellars     4177\n",
      "@kerinokeefe        10776\n",
      "@laurbuzz            1835\n",
      "@mattkettmann        6332\n",
      "@paulgwine           9532\n",
      "@suskostrzewa        1085\n",
      "@vboone              9537\n",
      "@vossroger          25514\n",
      "@wawinereport        4966\n",
      "@wineschach         15134\n",
      "@winewchristina         6\n",
      "@worldwineguys       1005\n",
      "Name: description, dtype: int64\n"
     ]
    }
   ],
   "source": [
    "from pandas import Series\n",
    "serie_1= Series(R.groupby('taster_twitter_handle').description.count())\n",
    "print(serie_1)"
   ]
  },
  {
   "cell_type": "code",
   "execution_count": 88,
   "id": "c7ddf659",
   "metadata": {},
   "outputs": [
    {
     "name": "stdout",
     "output_type": "stream",
     "text": [
      "price\n",
      "4.0       86\n",
      "5.0       87\n",
      "6.0       88\n",
      "7.0       91\n",
      "8.0       91\n",
      "          ..\n",
      "1900.0    98\n",
      "2000.0    97\n",
      "2013.0    91\n",
      "2500.0    96\n",
      "3300.0    88\n",
      "Name: points, Length: 390, dtype: int64\n"
     ]
    }
   ],
   "source": [
    "serie_2= Series(R.groupby('price').points.max())\n",
    "print(serie_2)"
   ]
  },
  {
   "cell_type": "code",
   "execution_count": 150,
   "id": "d83969df",
   "metadata": {},
   "outputs": [
    {
     "data": {
      "text/html": [
       "<div>\n",
       "<style scoped>\n",
       "    .dataframe tbody tr th:only-of-type {\n",
       "        vertical-align: middle;\n",
       "    }\n",
       "\n",
       "    .dataframe tbody tr th {\n",
       "        vertical-align: top;\n",
       "    }\n",
       "\n",
       "    .dataframe thead th {\n",
       "        text-align: right;\n",
       "    }\n",
       "</style>\n",
       "<table border=\"1\" class=\"dataframe\">\n",
       "  <thead>\n",
       "    <tr style=\"text-align: right;\">\n",
       "      <th></th>\n",
       "      <th>prix minimum</th>\n",
       "      <th>prix maximum</th>\n",
       "    </tr>\n",
       "    <tr>\n",
       "      <th>variety</th>\n",
       "      <th></th>\n",
       "      <th></th>\n",
       "    </tr>\n",
       "  </thead>\n",
       "  <tbody>\n",
       "    <tr>\n",
       "      <th>Abouriou</th>\n",
       "      <td>15.0</td>\n",
       "      <td>75.0</td>\n",
       "    </tr>\n",
       "    <tr>\n",
       "      <th>Agiorgitiko</th>\n",
       "      <td>10.0</td>\n",
       "      <td>66.0</td>\n",
       "    </tr>\n",
       "    <tr>\n",
       "      <th>Aglianico</th>\n",
       "      <td>6.0</td>\n",
       "      <td>180.0</td>\n",
       "    </tr>\n",
       "    <tr>\n",
       "      <th>Aidani</th>\n",
       "      <td>27.0</td>\n",
       "      <td>27.0</td>\n",
       "    </tr>\n",
       "    <tr>\n",
       "      <th>Airen</th>\n",
       "      <td>8.0</td>\n",
       "      <td>10.0</td>\n",
       "    </tr>\n",
       "    <tr>\n",
       "      <th>...</th>\n",
       "      <td>...</td>\n",
       "      <td>...</td>\n",
       "    </tr>\n",
       "    <tr>\n",
       "      <th>Zinfandel</th>\n",
       "      <td>5.0</td>\n",
       "      <td>100.0</td>\n",
       "    </tr>\n",
       "    <tr>\n",
       "      <th>Zlahtina</th>\n",
       "      <td>13.0</td>\n",
       "      <td>16.0</td>\n",
       "    </tr>\n",
       "    <tr>\n",
       "      <th>Zweigelt</th>\n",
       "      <td>9.0</td>\n",
       "      <td>70.0</td>\n",
       "    </tr>\n",
       "    <tr>\n",
       "      <th>Çalkarası</th>\n",
       "      <td>19.0</td>\n",
       "      <td>19.0</td>\n",
       "    </tr>\n",
       "    <tr>\n",
       "      <th>Žilavka</th>\n",
       "      <td>15.0</td>\n",
       "      <td>15.0</td>\n",
       "    </tr>\n",
       "  </tbody>\n",
       "</table>\n",
       "<p>707 rows × 2 columns</p>\n",
       "</div>"
      ],
      "text/plain": [
       "             prix minimum  prix maximum\n",
       "variety                                \n",
       "Abouriou             15.0          75.0\n",
       "Agiorgitiko          10.0          66.0\n",
       "Aglianico             6.0         180.0\n",
       "Aidani               27.0          27.0\n",
       "Airen                 8.0          10.0\n",
       "...                   ...           ...\n",
       "Zinfandel             5.0         100.0\n",
       "Zlahtina             13.0          16.0\n",
       "Zweigelt              9.0          70.0\n",
       "Çalkarası            19.0          19.0\n",
       "Žilavka              15.0          15.0\n",
       "\n",
       "[707 rows x 2 columns]"
      ]
     },
     "execution_count": 150,
     "metadata": {},
     "output_type": "execute_result"
    }
   ],
   "source": [
    "P1=R.groupby('variety').price.min()\n",
    "P2=R.groupby('variety').price.max()\n",
    "#print(P1)\n",
    "#print()\n",
    "#print(P2)\n",
    "#print()\n",
    "A=[]\n",
    "for i in range(len(P1)):\n",
    "    A.append([P1.iloc[i], P2.iloc[i]])\n",
    "br=np.array(A)\n",
    "#print(br)\n",
    "df=pd.DataFrame(br, index=[P1.index], columns=['prix minimum', 'prix maximum'])\n",
    "df"
   ]
  },
  {
   "cell_type": "code",
   "execution_count": 94,
   "id": "832cf32d",
   "metadata": {},
   "outputs": [
    {
     "name": "stdout",
     "output_type": "stream",
     "text": [
      "taster_name\n",
      "Alexander Peartree    86.0\n",
      "Anna Lee C. Iijima    88.0\n",
      "Anne Krebiehl MW      90.0\n",
      "Carrie Dykes          87.0\n",
      "Christina Pickard     88.0\n",
      "Fiona Adams           87.0\n",
      "Jeff Jenssen          89.0\n",
      "Jim Gordon            89.0\n",
      "Joe Czerwinski        89.0\n",
      "Kerin O’Keefe         89.0\n",
      "Lauren Buzzeo         88.0\n",
      "Matt Kettmann         90.0\n",
      "Michael Schachner     87.0\n",
      "Mike DeSimone         89.0\n",
      "Paul Gregutt          89.0\n",
      "Roger Voss            88.0\n",
      "Sean P. Sullivan      89.0\n",
      "Susan Kostrzewa       87.0\n",
      "Virginie Boone        90.0\n",
      "Name: points, dtype: float64\n"
     ]
    }
   ],
   "source": [
    "serie_3= Series(R.groupby('taster_name').points.median())\n",
    "print(serie_3)"
   ]
  },
  {
   "cell_type": "code",
   "execution_count": 121,
   "id": "eac6234b",
   "metadata": {},
   "outputs": [
    {
     "data": {
      "text/plain": [
       "array([87, 87, 87, ..., 90, 90, 90], dtype=int64)"
      ]
     },
     "execution_count": 121,
     "metadata": {},
     "output_type": "execute_result"
    }
   ],
   "source": [
    "R.points.values"
   ]
  },
  {
   "cell_type": "code",
   "execution_count": 116,
   "id": "31b54e8a",
   "metadata": {},
   "outputs": [
    {
     "name": "stdout",
     "output_type": "stream",
     "text": [
      "Le type de donnees de la colonne points est:  <class 'numpy.ndarray'>\n"
     ]
    }
   ],
   "source": [
    "print(\"Le type de donnees de la colonne points est: \", type(R.points.values))"
   ]
  },
  {
   "cell_type": "code",
   "execution_count": 105,
   "id": "05e6c04e",
   "metadata": {},
   "outputs": [
    {
     "name": "stdout",
     "output_type": "stream",
     "text": [
      "Le nombre d'avis auxquels il manque un prix est:  8996\n"
     ]
    }
   ],
   "source": [
    "B=len(R[pd.isnull(R.price)])\n",
    "print(\"Le nombre d'avis auxquels il manque un prix est: \", B)"
   ]
  }
 ],
 "metadata": {
  "kernelspec": {
   "display_name": "Python 3 (ipykernel)",
   "language": "python",
   "name": "python3"
  },
  "language_info": {
   "codemirror_mode": {
    "name": "ipython",
    "version": 3
   },
   "file_extension": ".py",
   "mimetype": "text/x-python",
   "name": "python",
   "nbconvert_exporter": "python",
   "pygments_lexer": "ipython3",
   "version": "3.9.7"
  }
 },
 "nbformat": 4,
 "nbformat_minor": 5
}
